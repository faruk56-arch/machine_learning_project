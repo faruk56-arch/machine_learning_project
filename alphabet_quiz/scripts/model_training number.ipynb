{
 "cells": [
  {
   "cell_type": "code",
   "execution_count": 14,
   "id": "68239407-defa-40b9-a185-ef8783e5f3fa",
   "metadata": {},
   "outputs": [],
   "source": [
    "\n",
    "import numpy as np\n",
    "import tensorflow as tf\n",
    "from bidict import bidict\n",
    "from tensorflow.keras.models import Sequential\n",
    "from tensorflow.keras.layers import Dense, Conv2D, Flatten, MaxPooling2D\n",
    "from tensorflow.keras.utils import to_categorical\n",
    "from sklearn.model_selection import train_test_split\n",
    "from pymongo import MongoClient\n",
    "import matplotlib.pyplot as plt\n",
    "\n",
    "import seaborn as sns\n",
    "from sklearn.metrics import confusion_matrix\n"
   ]
  },
  {
   "cell_type": "code",
   "execution_count": 15,
   "id": "a8f8a6de-6a57-4e99-a9fd-f32285ac7a25",
   "metadata": {},
   "outputs": [],
   "source": [
    "# Création d'un dictionnaire bidirectionnel pour encoder les chiffres de 0 à 9.\n",
    "ENCODER = bidict({\n",
    "    '0': 0, '1': 1, '2': 2, '3': 3, '4': 4, '5': 5, \n",
    "    '6': 6, '7': 7, '8': 8, '9': 9,\n",
    "    \n",
    "})"
   ]
  },
  {
   "cell_type": "code",
   "execution_count": 16,
   "id": "c1f00021",
   "metadata": {},
   "outputs": [],
   "source": [
    "# Utilisation de la bibliothèque numpy pour charger le jeu de données MNIST à partir d'un fichier CSV.\n",
    "data = np.loadtxt('../data/mnist_train.csv', delimiter=',')\n",
    "# Séparation des étiquettes et des images. \n",
    "# Les étiquettes sont dans la première colonne, tandis que le reste des colonnes contient les pixels des images.\n",
    "labels = data[:, 0]\n",
    "images = data[:, 1:]"
   ]
  },
  {
   "cell_type": "code",
   "execution_count": 17,
   "id": "d2428dc7",
   "metadata": {},
   "outputs": [],
   "source": [
    "\n",
    "# Normalisation des images. Les valeurs des pixels sont divisées par 255 pour obtenir des valeurs comprises entre 0 et 1.\n",
    "\n",
    "images = images / 255.0\n"
   ]
  },
  {
   "cell_type": "code",
   "execution_count": 18,
   "id": "f8a212e8",
   "metadata": {},
   "outputs": [],
   "source": [
    "# Remodelage des images pour qu'elles aient la forme (28, 28, 1), \n",
    "images = images.reshape(-1, 28, 28, 1)\n"
   ]
  },
  {
   "cell_type": "code",
   "execution_count": 19,
   "id": "2cabaf72",
   "metadata": {},
   "outputs": [
    {
     "data": {
      "text/plain": [
       "array([[0., 0., 0., ..., 0., 0., 0.],\n",
       "       [1., 0., 0., ..., 0., 0., 0.],\n",
       "       [0., 0., 0., ..., 0., 0., 0.],\n",
       "       ...,\n",
       "       [0., 0., 0., ..., 0., 0., 0.],\n",
       "       [0., 0., 0., ..., 0., 0., 0.],\n",
       "       [0., 0., 0., ..., 0., 1., 0.]], dtype=float32)"
      ]
     },
     "execution_count": 19,
     "metadata": {},
     "output_type": "execute_result"
    }
   ],
   "source": [
    "# Encodage des étiquettes en catégories. C'est une étape nécessaire pour l'entraînement avec la fonction de perte 'categorical_crossentropy'.\n",
    "labels_encoded = to_categorical(labels)\n",
    "labels_encoded"
   ]
  },
  {
   "cell_type": "code",
   "execution_count": 20,
   "id": "080f5e9b",
   "metadata": {},
   "outputs": [],
   "source": [
    "# Division du jeu de données en ensembles d'entraînement et de validation.\n",
    "X_train, X_val, y_train, y_val = train_test_split(images, labels_encoded, test_size=0.2, random_state=42)\n"
   ]
  },
  {
   "cell_type": "code",
   "execution_count": 21,
   "id": "a33714fc",
   "metadata": {},
   "outputs": [],
   "source": [
    "# Création d'un modèle de réseau neuronal convolutif à l'aide de Keras.\n",
    "model = Sequential([\n",
    "    # Première couche convolutive avec 32 filtres de taille (3,3) et une fonction d'activation ReLU.\n",
    "    Conv2D(32, (3,3), activation='relu', input_shape=(28, 28, 1)),\n",
    "    # Couche de mise en commun pour réduire la taille des cartes de caractéristiques.\n",
    "    MaxPooling2D(2, 2),\n",
    "    # Deuxième couche convolutive avec 64 filtres.\n",
    "    Conv2D(64, (3,3), activation='relu'),\n",
    "    # Deuxième couche de mise en commun.\n",
    "    MaxPooling2D(2, 2),\n",
    "    # Aplatir les cartes de caractéristiques pour les connecter à des couches entièrement connectées.\n",
    "    Flatten(),\n",
    "    # Couche entièrement connectée avec 128 neurones.\n",
    "    Dense(128, activation='relu'),\n",
    "    # Couche de sortie avec 10 neurones (pour les 10 classes de chiffres) et une activation softmax.\n",
    "    Dense(10, activation='softmax')\n",
    "])"
   ]
  },
  {
   "cell_type": "markdown",
   "id": "98d4a9eb",
   "metadata": {},
   "source": []
  },
  {
   "cell_type": "code",
   "execution_count": 22,
   "id": "b4f2828b",
   "metadata": {},
   "outputs": [],
   "source": [
    "# Compilation du modèle avec l'optimiseur Adam, la fonction de perte 'categorical_crossentropy' et la métrique 'accuracy'.\n",
    "model.compile(optimizer='adam', loss='categorical_crossentropy', metrics=['accuracy'])\n"
   ]
  },
  {
   "cell_type": "code",
   "execution_count": 23,
   "id": "52dbb97b",
   "metadata": {},
   "outputs": [
    {
     "name": "stdout",
     "output_type": "stream",
     "text": [
      "Epoch 1/10\n",
      "1500/1500 [==============================] - 45s 28ms/step - loss: 0.1505 - accuracy: 0.9537 - val_loss: 0.0657 - val_accuracy: 0.9791\n",
      "Epoch 2/10\n",
      "1500/1500 [==============================] - 33s 22ms/step - loss: 0.0484 - accuracy: 0.9843 - val_loss: 0.0455 - val_accuracy: 0.9859\n",
      "Epoch 3/10\n",
      "1500/1500 [==============================] - 33s 22ms/step - loss: 0.0317 - accuracy: 0.9896 - val_loss: 0.0448 - val_accuracy: 0.9866\n",
      "Epoch 4/10\n",
      "1500/1500 [==============================] - 32s 22ms/step - loss: 0.0223 - accuracy: 0.9929 - val_loss: 0.0452 - val_accuracy: 0.9859\n",
      "Epoch 5/10\n",
      "1500/1500 [==============================] - 42s 28ms/step - loss: 0.0168 - accuracy: 0.9947 - val_loss: 0.0400 - val_accuracy: 0.9881\n",
      "Epoch 6/10\n",
      "1500/1500 [==============================] - 48s 32ms/step - loss: 0.0127 - accuracy: 0.9961 - val_loss: 0.0429 - val_accuracy: 0.9883\n",
      "Epoch 7/10\n",
      "1500/1500 [==============================] - 48s 32ms/step - loss: 0.0101 - accuracy: 0.9967 - val_loss: 0.0417 - val_accuracy: 0.9896\n",
      "Epoch 8/10\n",
      "1500/1500 [==============================] - 49s 32ms/step - loss: 0.0092 - accuracy: 0.9969 - val_loss: 0.0389 - val_accuracy: 0.9898\n",
      "Epoch 9/10\n",
      "1500/1500 [==============================] - 49s 33ms/step - loss: 0.0056 - accuracy: 0.9981 - val_loss: 0.0444 - val_accuracy: 0.9911\n",
      "Epoch 10/10\n",
      "1500/1500 [==============================] - 52s 35ms/step - loss: 0.0075 - accuracy: 0.9977 - val_loss: 0.0436 - val_accuracy: 0.9906\n"
     ]
    },
    {
     "data": {
      "text/plain": [
       "<keras.callbacks.History at 0x1e91b1b7890>"
      ]
     },
     "execution_count": 23,
     "metadata": {},
     "output_type": "execute_result"
    }
   ],
   "source": [
    "# Entraînement du modèle sur les données d'entraînement, avec validation sur les données de validation.\n",
    "model.fit(X_train, y_train, validation_data=(X_val, y_val), epochs=10, batch_size=32)\n",
    "\n"
   ]
  },
  {
   "cell_type": "code",
   "execution_count": 24,
   "id": "2fa88396-45f2-436c-b8c9-ac45646358a4",
   "metadata": {},
   "outputs": [
    {
     "name": "stderr",
     "output_type": "stream",
     "text": [
      "WARNING:absl:Found untraced functions such as _jit_compiled_convolution_op, _jit_compiled_convolution_op, _update_step_xla while saving (showing 3 of 3). These functions will not be directly callable after loading.\n"
     ]
    },
    {
     "name": "stdout",
     "output_type": "stream",
     "text": [
      "INFO:tensorflow:Assets written to: ../chiffre.model\\assets\n"
     ]
    },
    {
     "name": "stderr",
     "output_type": "stream",
     "text": [
      "INFO:tensorflow:Assets written to: ../chiffre.model\\assets\n"
     ]
    }
   ],
   "source": [
    "# Sauvegarde du modèle entraîné pour une utilisation ultérieure.\n",
    "model.save('../chiffre.model')"
   ]
  }
 ],
 "metadata": {
  "kernelspec": {
   "display_name": "Python 3 (ipykernel)",
   "language": "python",
   "name": "python3"
  },
  "language_info": {
   "codemirror_mode": {
    "name": "ipython",
    "version": 3
   },
   "file_extension": ".py",
   "mimetype": "text/x-python",
   "name": "python",
   "nbconvert_exporter": "python",
   "pygments_lexer": "ipython3",
   "version": "3.11.4"
  },
  "vscode": {
   "interpreter": {
    "hash": "48ba4ec2b1a99314971048b2a8b9dac02a35e70c3aec2d577ec93634bb992eec"
   }
  }
 },
 "nbformat": 4,
 "nbformat_minor": 5
}
